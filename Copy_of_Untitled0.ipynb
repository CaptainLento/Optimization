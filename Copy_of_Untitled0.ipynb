{
  "nbformat": 4,
  "nbformat_minor": 0,
  "metadata": {
    "colab": {
      "provenance": [],
      "authorship_tag": "ABX9TyN1gsLmjqIDrODT90cn2EAu",
      "include_colab_link": true
    },
    "kernelspec": {
      "name": "python3",
      "display_name": "Python 3"
    },
    "language_info": {
      "name": "python"
    }
  },
  "cells": [
    {
      "cell_type": "markdown",
      "metadata": {
        "id": "view-in-github",
        "colab_type": "text"
      },
      "source": [
        "<a href=\"https://colab.research.google.com/github/CaptainLento/Optimization/blob/main/Copy_of_Untitled0.ipynb\" target=\"_parent\"><img src=\"https://colab.research.google.com/assets/colab-badge.svg\" alt=\"Open In Colab\"/></a>"
      ]
    },
    {
      "cell_type": "code",
      "source": [
        "# Useful starting lines\n",
        "%matplotlib inline\n",
        "import pandas as pd\n",
        "import numpy as np\n",
        "import matplotlib.pyplot as plt"
      ],
      "metadata": {
        "id": "H_OWg0xtCQfg"
      },
      "execution_count": null,
      "outputs": []
    },
    {
      "cell_type": "code",
      "source": [
        "from sklearn.datasets import load_wine\n",
        "# Loads sklearn's Breast Cancer dataset\n",
        "dataset = load_wine()\n",
        "\n",
        "# Prendo i dati utili\n",
        "Alcohol = dataset.data[:,0]\n",
        "print(Alcohol, end='\\n')\n",
        "Malic_Acid = dataset.data[:,1]\n",
        "print(Malic_Acid, end='\\n')\n",
        "Ash = dataset.data[:,2]\n",
        "print(Ash, end='\\n')\n",
        "Magnesium = dataset.data[:,4]\n",
        "print(Magnesium, end='\\n')\n",
        "\n",
        "# Filtro IQT\n",
        "def IQR(x):\n",
        "    Q1 = x.quantile(0.25)\n",
        "    Q3 = x.quantile(0.75)\n",
        "    IQR = Q3 - Q1\n",
        "    lower_limit = Q1 - 1.5 * IQR\n",
        "    upper_limit = Q3 + 1.5 * IQR\n",
        "    x = x[(x >= lower_limit) & (x <= upper_limit)]\n",
        "    return x\n",
        "\n",
        "# Fenoli tossici per l'umano\n",
        "Phenols = dataset.data[:,5]\n",
        "\n",
        "def standardize(x):\n",
        "    \"\"\"Standardize the original data points (mean 0 and std dev 1).\"\"\"\n",
        "    x = x - np.mean(x)\n",
        "    x = x / np.std(x)\n",
        "    return x\n",
        "\n",
        "def build_model_data(x, y):\n",
        "    \"\"\"Get regression data in matrix form.\"\"\"\n",
        "    b = y\n",
        "    num_samples = len(b)\n",
        "    A = np.c_[np.ones(num_samples), x]\n",
        "    return A, b\n",
        "\n",
        "# Use as datapoints the first and third columns\n",
        "Ash = dataset.data[:,2]\n",
        "Phenols = dataset.data[:,5]\n",
        "A, b = build_model_data(standardize(Phenols), standardize(Ash))"
      ],
      "metadata": {
        "colab": {
          "base_uri": "https://localhost:8080/"
        },
        "id": "SVLJfvPUCTey",
        "outputId": "5ab6323c-d243-41ee-9adf-585cd84cbaa8"
      },
      "execution_count": null,
      "outputs": [
        {
          "output_type": "stream",
          "name": "stdout",
          "text": [
            "[14.23 13.2  13.16 14.37 13.24 14.2  14.39 14.06 14.83 13.86 14.1  14.12\n",
            " 13.75 14.75 14.38 13.63 14.3  13.83 14.19 13.64 14.06 12.93 13.71 12.85\n",
            " 13.5  13.05 13.39 13.3  13.87 14.02 13.73 13.58 13.68 13.76 13.51 13.48\n",
            " 13.28 13.05 13.07 14.22 13.56 13.41 13.88 13.24 13.05 14.21 14.38 13.9\n",
            " 14.1  13.94 13.05 13.83 13.82 13.77 13.74 13.56 14.22 13.29 13.72 12.37\n",
            " 12.33 12.64 13.67 12.37 12.17 12.37 13.11 12.37 13.34 12.21 12.29 13.86\n",
            " 13.49 12.99 11.96 11.66 13.03 11.84 12.33 12.7  12.   12.72 12.08 13.05\n",
            " 11.84 12.67 12.16 11.65 11.64 12.08 12.08 12.   12.69 12.29 11.62 12.47\n",
            " 11.81 12.29 12.37 12.29 12.08 12.6  12.34 11.82 12.51 12.42 12.25 12.72\n",
            " 12.22 11.61 11.46 12.52 11.76 11.41 12.08 11.03 11.82 12.42 12.77 12.\n",
            " 11.45 11.56 12.42 13.05 11.87 12.07 12.43 11.79 12.37 12.04 12.86 12.88\n",
            " 12.81 12.7  12.51 12.6  12.25 12.53 13.49 12.84 12.93 13.36 13.52 13.62\n",
            " 12.25 13.16 13.88 12.87 13.32 13.08 13.5  12.79 13.11 13.23 12.58 13.17\n",
            " 13.84 12.45 14.34 13.48 12.36 13.69 12.85 12.96 13.78 13.73 13.45 12.82\n",
            " 13.58 13.4  12.2  12.77 14.16 13.71 13.4  13.27 13.17 14.13]\n",
            "[1.71 1.78 2.36 1.95 2.59 1.76 1.87 2.15 1.64 1.35 2.16 1.48 1.73 1.73\n",
            " 1.87 1.81 1.92 1.57 1.59 3.1  1.63 3.8  1.86 1.6  1.81 2.05 1.77 1.72\n",
            " 1.9  1.68 1.5  1.66 1.83 1.53 1.8  1.81 1.64 1.65 1.5  3.99 1.71 3.84\n",
            " 1.89 3.98 1.77 4.04 3.59 1.68 2.02 1.73 1.73 1.65 1.75 1.9  1.67 1.73\n",
            " 1.7  1.97 1.43 0.94 1.1  1.36 1.25 1.13 1.45 1.21 1.01 1.17 0.94 1.19\n",
            " 1.61 1.51 1.66 1.67 1.09 1.88 0.9  2.89 0.99 3.87 0.92 1.81 1.13 3.86\n",
            " 0.89 0.98 1.61 1.67 2.06 1.33 1.83 1.51 1.53 2.83 1.99 1.52 2.12 1.41\n",
            " 1.07 3.17 2.08 1.34 2.45 1.72 1.73 2.55 1.73 1.75 1.29 1.35 3.74 2.43\n",
            " 2.68 0.74 1.39 1.51 1.47 1.61 3.43 3.43 2.4  2.05 4.43 5.8  4.31 2.16\n",
            " 1.53 2.13 1.63 4.3  1.35 2.99 2.31 3.55 1.24 2.46 4.72 5.51 3.59 2.96\n",
            " 2.81 2.56 3.17 4.95 3.88 3.57 5.04 4.61 3.24 3.9  3.12 2.67 1.9  3.3\n",
            " 1.29 5.19 4.12 3.03 1.68 1.67 3.83 3.26 3.27 3.45 2.76 4.36 3.7  3.37\n",
            " 2.58 4.6  3.03 2.39 2.51 5.65 3.91 4.28 2.59 4.1 ]\n",
            "[2.43 2.14 2.67 2.5  2.87 2.45 2.45 2.61 2.17 2.27 2.3  2.32 2.41 2.39\n",
            " 2.38 2.7  2.72 2.62 2.48 2.56 2.28 2.65 2.36 2.52 2.61 3.22 2.62 2.14\n",
            " 2.8  2.21 2.7  2.36 2.36 2.7  2.65 2.41 2.84 2.55 2.1  2.51 2.31 2.12\n",
            " 2.59 2.29 2.1  2.44 2.28 2.12 2.4  2.27 2.04 2.6  2.42 2.68 2.25 2.46\n",
            " 2.3  2.68 2.5  1.36 2.28 2.02 1.92 2.16 2.53 2.56 1.7  1.92 2.36 1.75\n",
            " 2.21 2.67 2.24 2.6  2.3  1.92 1.71 2.23 1.95 2.4  2.   2.2  2.51 2.32\n",
            " 2.58 2.24 2.31 2.62 2.46 2.3  2.32 2.42 2.26 2.22 2.28 2.2  2.74 1.98\n",
            " 2.1  2.21 1.7  1.9  2.46 1.88 1.98 2.27 2.12 2.28 1.94 2.7  1.82 2.17\n",
            " 2.92 2.5  2.5  2.2  1.99 2.19 1.98 2.   2.42 3.23 2.73 2.13 2.39 2.17\n",
            " 2.29 2.78 2.3  2.38 2.32 2.4  2.4  2.36 2.25 2.2  2.54 2.64 2.19 2.61\n",
            " 2.7  2.35 2.72 2.35 2.2  2.15 2.23 2.48 2.38 2.36 2.62 2.48 2.75 2.28\n",
            " 2.1  2.32 2.38 2.64 2.7  2.64 2.38 2.54 2.58 2.35 2.3  2.26 2.6  2.3\n",
            " 2.69 2.86 2.32 2.28 2.48 2.45 2.48 2.26 2.37 2.74]\n",
            "[127. 100. 101. 113. 118. 112.  96. 121.  97.  98. 105.  95.  89.  91.\n",
            " 102. 112. 120. 115. 108. 116. 126. 102. 101.  95.  96. 124.  93.  94.\n",
            " 107.  96. 101. 106. 104. 132. 110. 100. 110.  98.  98. 128. 117.  90.\n",
            " 101. 103. 107. 111. 102. 101. 103. 108.  92.  94. 111. 115. 118. 116.\n",
            " 118. 102. 108.  88. 101. 100.  94.  87. 104.  98.  78.  78. 110. 151.\n",
            " 103.  86.  87. 139. 101.  97.  86. 112. 136. 101.  86.  86.  78.  85.\n",
            "  94.  99.  90.  88.  84.  70.  81.  86.  80.  88.  98. 162. 134.  85.\n",
            "  88.  88.  97.  88.  98.  86.  85.  90.  80.  84.  92.  94. 107.  88.\n",
            " 103.  88.  84.  85.  86. 108.  80.  87.  96. 119. 102.  86.  82.  85.\n",
            "  86.  92.  88.  80. 122. 104.  98. 106.  85.  94.  89.  96.  88. 101.\n",
            "  96.  89.  97.  92. 112. 102.  80.  86.  92. 113. 123. 112. 116.  98.\n",
            " 103.  93.  89.  97.  98.  89.  88. 107. 106. 106.  90.  88. 111.  88.\n",
            " 105. 112.  96.  86.  91.  95. 102. 120. 120.  96.]\n"
          ]
        }
      ]
    },
    {
      "cell_type": "code",
      "source": [
        "# Take a look at our data\n",
        "plt.ylabel ('Phenols')\n",
        "plt.ylabel ('Ash')\n",
        "\n",
        "plt.scatter(Phenols, Ash)\n",
        "print('Number of samples n = ', b.shape[0])\n",
        "print('Dimension of each sample d = ', A.shape[1])"
      ],
      "metadata": {
        "colab": {
          "base_uri": "https://localhost:8080/",
          "height": 465
        },
        "id": "mWajpzEgDtqM",
        "outputId": "045055af-c0c3-484a-8baa-4440f29bf216"
      },
      "execution_count": null,
      "outputs": [
        {
          "output_type": "stream",
          "name": "stdout",
          "text": [
            "Number of samples n =  178\n",
            "Dimension of each sample d =  2\n"
          ]
        },
        {
          "output_type": "display_data",
          "data": {
            "text/plain": [
              "<Figure size 640x480 with 1 Axes>"
            ],
            "image/png": "[encoded data removed]"
          },
          "metadata": {}
        }
      ]
    },
    {
      "cell_type": "code",
      "source": [],
      "metadata": {
        "id": "8bjBQlN-FBGz"
      },
      "execution_count": null,
      "outputs": []
    }
  ]
}