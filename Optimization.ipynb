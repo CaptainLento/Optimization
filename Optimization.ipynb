{
  "nbformat": 4,
  "nbformat_minor": 0,
  "metadata": {
    "colab": {
      "provenance": [],
      "authorship_tag": "ABX9TyNTSzQIjIOCSm4pSJstDUNd",
      "include_colab_link": true
    },
    "kernelspec": {
      "name": "python3",
      "display_name": "Python 3"
    },
    "language_info": {
      "name": "python"
    }
  },
  "cells": [
    {
      "cell_type": "markdown",
      "metadata": {
        "id": "view-in-github",
        "colab_type": "text"
      },
      "source": [
        "<a href=\"https://colab.research.google.com/github/CaptainLento/Optimization/blob/main/Optimization.ipynb\" target=\"_parent\"><img src=\"https://colab.research.google.com/assets/colab-badge.svg\" alt=\"Open In Colab\"/></a>"
      ]
    },
    {
      "cell_type": "markdown",
      "source": [
        "# **Modena Housing Price** (Optimization Project)\n",
        "This Optimization project is a Multivariate linear regression implemented through solving an optimization problem using the gradient descent method and some of its variants. \\\n",
        "The Dataset I will use is a House Price study in the city of Modena, Italy. The idea is to perform a linear regression using the price as the dependent variable and the number of bedrooms, number of bathrooms, and the size of the house as independent variables. Dataset is aveliable on Kaggle.com at the link: [https://www.kaggle.com/datasets/albertostefani/modena-housing-price](https://)\n",
        "\n",
        "\n"
      ],
      "metadata": {
        "id": "-JlBuJBKRZNZ"
      }
    },
    {
      "cell_type": "code",
      "source": [
        "%matplotlib inline\n",
        "import pandas as pd\n",
        "import numpy as np\n",
        "import matplotlib.pyplot as plt\n",
        "\n",
        "# Import Dataset form Google Drive\n",
        "# from google.colab import drive\n",
        "# drive.mount('/content/drive')\n",
        "# df = pd.read_csv('MyDrive/Optimization/Modena-House.csv')\n",
        "\n",
        "# Import Dataset form environment\n",
        "df = pd.read_csv('Modena-House.csv')\n",
        "# Tolgo colonne non interessanti per la mia ricerca\n",
        "df_filtered = df[[\"m2\",\"bathrooms\",\"bedrooms\", \"year\", \"price\"]]"
      ],
      "metadata": {
        "id": "G8Pg108GT5GB"
      },
      "execution_count": 10,
      "outputs": []
    },
    {
      "cell_type": "markdown",
      "source": [
        "# Data cleaning\n",
        "Initial point of the analysis is to:\n",
        "*   Identify the variables (possibly continuos) we are intresteed in: m2, bathrooms, bedrooms, year, price. The least one is our output variable.\n",
        "*   Starting cleaning the data dropping out rows with missing valuse.\n",
        "*   Calculate the IQR for the variables and cut off the valuse not in the outliers\n",
        "*   Print a scatch of our data that now are clean and ready to be studied\n",
        "\n",
        "\n"
      ],
      "metadata": {
        "id": "0z4QepOBXN2i"
      }
    },
    {
      "source": [
        "# Filtro Outliers con IQR\n",
        "vars = [\"m2\",\"bathrooms\",\"bedrooms\", \"year\", \"price\"]\n",
        "# Filtra i valori anomali utilizzando il concetto di IQR\n",
        "for var in vars:\n",
        "    # Convert the column to numeric, handling non-numeric values\n",
        "    df_filtered[var] = pd.to_numeric(df_filtered[var], errors='coerce')\n",
        "    # Drop rows with missing values\n",
        "    df_filtered = df_filtered.dropna(subset=[var])\n",
        "    # Calculate the IQR for the variable\n",
        "    Q1 = df_filtered[var].quantile(0.25)\n",
        "    Q3 = df_filtered[var].quantile(0.75)\n",
        "    IQR = Q3 - Q1\n",
        "    lower_limit = Q1 - 1.5 * IQR\n",
        "    upper_limit = Q3 + 1.5 * IQR\n",
        "    df_filtered = df_filtered[(df_filtered[var] >= lower_limit) & (df_filtered[var] <= upper_limit)]\n",
        "\n",
        "# Print the cleaned data\n",
        "print(df_filtered.head())"
      ],
      "cell_type": "code",
      "metadata": {
        "colab": {
          "base_uri": "https://localhost:8080/"
        },
        "id": "JT1gZek536Uz",
        "outputId": "62123e03-ace5-4596-caf1-1fbbc6d45ae4"
      },
      "execution_count": 17,
      "outputs": [
        {
          "output_type": "stream",
          "name": "stdout",
          "text": [
            "      m2  bathrooms  bedrooms    year  price\n",
            "0   68.0        1.0       1.0  1970.0   82.0\n",
            "1   92.0        1.0       2.0  1971.0   85.0\n",
            "2   80.0        1.0       2.0  2007.0  133.0\n",
            "3  110.0        1.0       2.0  1965.0  145.0\n",
            "4   75.0        1.0       2.0  1998.0  128.0\n"
          ]
        }
      ]
    },
    {
      "cell_type": "markdown",
      "source": [
        "\n",
        "# Regression Model\n",
        "With the features we have, we want to compute the best model to use gradient descent in the form of Regressison betwwen all the possible combinations between features and the Price variable. \\\n",
        "After a short analysis we can see that the best model for our scope is that has Bedrooms and Bathroom as regressors (analysis based on the best cond_number result).\n",
        "\n",
        "\n",
        "\n",
        "```\n",
        "features = df_filtered[['bathrooms','bedrooms']]\n",
        "prices = df_filtered['price']\n",
        "A, b = build_model_data(standardize(features), standardize(prices))\n",
        "```\n",
        "\n",
        "\n",
        "\n",
        "\n"
      ],
      "metadata": {
        "id": "-nk1Sv-F6Aji"
      }
    },
    {
      "cell_type": "code",
      "source": [
        "def standardize(x):\n",
        "    \"\"\"Standardize the original data points (mean 0 and std dev 1).\"\"\"\n",
        "    x = x - np.mean(x)\n",
        "    x = x / np.std(x)\n",
        "    return x\n",
        "\n",
        "def build_model_data(x, y):\n",
        "    \"\"\"Get regression data in matrix form.\"\"\"\n",
        "    b = y\n",
        "    num_samples = len(b)\n",
        "    A = np.c_[np.ones(num_samples), x]\n",
        "    return A, b"
      ],
      "metadata": {
        "id": "J6oOrde_6aGk"
      },
      "execution_count": 38,
      "outputs": []
    },
    {
      "cell_type": "code",
      "source": [
        "features = df_filtered[['bathrooms','bedrooms']]\n",
        "prices = df_filtered['price']\n",
        "\n",
        "# Building our Model\n",
        "A, b = build_model_data(standardize(features), standardize(prices))\n",
        "A = np.array(A)\n",
        "b = np.array(b)\n",
        "\n",
        "# cond_number to evaluate the quality of our model\n",
        "cond_number = np.linalg.cond(A)\n",
        "print(\"Numero di condizionamento di A:\", cond_number)\n",
        "print('Number of samples n = ', b.shape[0])\n",
        "print('Dimension of each sample d = ', A.shape[1])"
      ],
      "metadata": {
        "colab": {
          "base_uri": "https://localhost:8080/"
        },
        "id": "QKUO4UBR6fHz",
        "outputId": "c57a0ce5-ed74-4e6e-c2a3-a924687b57c8",
        "collapsed": true
      },
      "execution_count": 40,
      "outputs": [
        {
          "output_type": "stream",
          "name": "stdout",
          "text": [
            "Numero di condizionamento di A: 3.061952142095987\n",
            "Number of samples n =  2784\n",
            "Dimension of each sample d =  3\n"
          ]
        },
        {
          "output_type": "stream",
          "name": "stderr",
          "text": [
            "/usr/local/lib/python3.10/dist-packages/numpy/core/fromnumeric.py:3643: FutureWarning: The behavior of DataFrame.std with axis=None is deprecated, in a future version this will reduce over both axes and return a scalar. To retain the old behavior, pass axis=0 (or do not pass axis)\n",
            "  return std(axis=axis, dtype=dtype, out=out, ddof=ddof, **kwargs)\n"
          ]
        }
      ]
    },
    {
      "cell_type": "markdown",
      "source": [
        "# Gradient descendent method functions\n",
        "Here we start analyize the simple Gradient descent method to see in how many iterations the algorithm start getting a good result \\\n",
        "As we can see in the following code, we can notice that, for the classic gradient descent method, the number of steps we need to get a good result is almost 10."
      ],
      "metadata": {
        "id": "GnK3YVZo8ELV"
      }
    },
    {
      "cell_type": "code",
      "source": [
        "def calculate_objective(Axmb):\n",
        "    \"\"\"Calculate ||Ax - b||^2 for the vector Axmb = Ax - b\"\"\"\n",
        "    obj = (Axmb**2).sum()\n",
        "    return obj\n",
        "\n",
        "def compute_gradient(A, x, b):\n",
        "    \"\"\"Compute the gradient and objective function.\"\"\"\n",
        "    Axmb = A.dot(x) - b\n",
        "    grad = 2 * A.T.dot(Axmb)\n",
        "    return grad, Axmb\n",
        "\n",
        "def gradient_descent(A, initial_x, b, max_iters, gamma):\n",
        "    \"\"\"Gradient descent algorithm.\"\"\"\n",
        "    # Define parameters to store x and objective func. values\n",
        "    xs = [initial_x]\n",
        "    objectives = []\n",
        "    x = initial_x\n",
        "    for n_iter in range(max_iters):\n",
        "        # compute objective and gradient\n",
        "        grad, Axmb = compute_gradient(A, x, b)\n",
        "        obj = calculate_objective(Axmb)\n",
        "        x = x - gamma * grad\n",
        "\n",
        "        # store x and objective function value\n",
        "        xs.append(x)\n",
        "        objectives.append(obj)\n",
        "        print(\"Gradient Descent({bi}/{ti}): objective={l:.5f}, x=[{w0:.5f},{w1:.5f},{w2:.5f}]\".format(\n",
        "              bi=n_iter, ti=max_iters - 1, l=obj, w0=x[0], w1=x[1], w2=x[2] ))\n",
        "    return objectives, xs"
      ],
      "metadata": {
        "id": "evEave9U8BBH"
      },
      "execution_count": 60,
      "outputs": []
    },
    {
      "cell_type": "code",
      "source": [
        "max_iters = 50\n",
        "gamma = 0.0001 # Tasso di apprendimento iniziale\n",
        "x_initial = np.zeros(A.shape[1])\n",
        "gradient_objectives_naive, gradient_xs_naive = gradient_descent(A, x_initial, b, max_iters, gamma)"
      ],
      "metadata": {
        "colab": {
          "base_uri": "https://localhost:8080/"
        },
        "id": "e4aCYF5n8e5u",
        "outputId": "bfbf734b-2991-4c2c-c930-69dbd59d000e"
      },
      "execution_count": 61,
      "outputs": [
        {
          "output_type": "stream",
          "name": "stdout",
          "text": [
            "Gradient Descent(0/49): objective=2784.00000, x=[-0.00000,0.33750,0.26758]\n",
            "Gradient Descent(1/49): objective=1726.35157, x=[0.04989,0.37411,0.31867]\n",
            "Gradient Descent(2/49): objective=1686.14731, x=[0.07025,0.39722,0.31357]\n",
            "Gradient Descent(3/49): objective=1677.62517, x=[0.09030,0.40915,0.30452]\n",
            "Gradient Descent(4/49): objective=1671.78095, x=[0.10697,0.41949,0.29512]\n",
            "Gradient Descent(5/49): objective=1667.35165, x=[0.12161,0.42824,0.28680]\n",
            "Gradient Descent(6/49): objective=1663.98099, x=[0.13435,0.43589,0.27951]\n",
            "Gradient Descent(7/49): objective=1661.41552, x=[0.14547,0.44254,0.27314]\n",
            "Gradient Descent(8/49): objective=1659.46290, x=[0.15517,0.44835,0.26758]\n",
            "Gradient Descent(9/49): objective=1657.97671, x=[0.16363,0.45342,0.26273]\n",
            "Gradient Descent(10/49): objective=1656.84555, x=[0.17101,0.45784,0.25850]\n",
            "Gradient Descent(11/49): objective=1655.98460, x=[0.17745,0.46170,0.25480]\n",
            "Gradient Descent(12/49): objective=1655.32931, x=[0.18307,0.46507,0.25158]\n",
            "Gradient Descent(13/49): objective=1654.83056, x=[0.18798,0.46800,0.24877]\n",
            "Gradient Descent(14/49): objective=1654.45095, x=[0.19225,0.47056,0.24632]\n",
            "Gradient Descent(15/49): objective=1654.16202, x=[0.19598,0.47280,0.24419]\n",
            "Gradient Descent(16/49): objective=1653.94211, x=[0.19924,0.47475,0.24232]\n",
            "Gradient Descent(17/49): objective=1653.77473, x=[0.20208,0.47645,0.24069]\n",
            "Gradient Descent(18/49): objective=1653.64734, x=[0.20456,0.47793,0.23927]\n",
            "Gradient Descent(19/49): objective=1653.55037, x=[0.20672,0.47923,0.23803]\n",
            "Gradient Descent(20/49): objective=1653.47657, x=[0.20860,0.48036,0.23695]\n",
            "Gradient Descent(21/49): objective=1653.42040, x=[0.21025,0.48134,0.23601]\n",
            "Gradient Descent(22/49): objective=1653.37765, x=[0.21169,0.48220,0.23519]\n",
            "Gradient Descent(23/49): objective=1653.34511, x=[0.21294,0.48295,0.23447]\n",
            "Gradient Descent(24/49): objective=1653.32034, x=[0.21403,0.48360,0.23384]\n",
            "Gradient Descent(25/49): objective=1653.30149, x=[0.21498,0.48417,0.23330]\n",
            "Gradient Descent(26/49): objective=1653.28715, x=[0.21581,0.48467,0.23282]\n",
            "Gradient Descent(27/49): objective=1653.27623, x=[0.21654,0.48511,0.23240]\n",
            "Gradient Descent(28/49): objective=1653.26791, x=[0.21717,0.48549,0.23204]\n",
            "Gradient Descent(29/49): objective=1653.26159, x=[0.21773,0.48582,0.23173]\n",
            "Gradient Descent(30/49): objective=1653.25677, x=[0.21821,0.48611,0.23145]\n",
            "Gradient Descent(31/49): objective=1653.25311, x=[0.21863,0.48636,0.23121]\n",
            "Gradient Descent(32/49): objective=1653.25032, x=[0.21899,0.48658,0.23100]\n",
            "Gradient Descent(33/49): objective=1653.24820, x=[0.21931,0.48677,0.23082]\n",
            "Gradient Descent(34/49): objective=1653.24658, x=[0.21959,0.48694,0.23066]\n",
            "Gradient Descent(35/49): objective=1653.24535, x=[0.21984,0.48708,0.23052]\n",
            "Gradient Descent(36/49): objective=1653.24441, x=[0.22005,0.48721,0.23039]\n",
            "Gradient Descent(37/49): objective=1653.24370, x=[0.22023,0.48732,0.23029]\n",
            "Gradient Descent(38/49): objective=1653.24316, x=[0.22040,0.48742,0.23020]\n",
            "Gradient Descent(39/49): objective=1653.24275, x=[0.22054,0.48750,0.23011]\n",
            "Gradient Descent(40/49): objective=1653.24243, x=[0.22066,0.48757,0.23004]\n",
            "Gradient Descent(41/49): objective=1653.24219, x=[0.22077,0.48764,0.22998]\n",
            "Gradient Descent(42/49): objective=1653.24201, x=[0.22086,0.48769,0.22993]\n",
            "Gradient Descent(43/49): objective=1653.24187, x=[0.22094,0.48774,0.22988]\n",
            "Gradient Descent(44/49): objective=1653.24177, x=[0.22101,0.48779,0.22984]\n",
            "Gradient Descent(45/49): objective=1653.24169, x=[0.22108,0.48782,0.22981]\n",
            "Gradient Descent(46/49): objective=1653.24163, x=[0.22113,0.48786,0.22977]\n",
            "Gradient Descent(47/49): objective=1653.24158, x=[0.22118,0.48788,0.22975]\n",
            "Gradient Descent(48/49): objective=1653.24154, x=[0.22122,0.48791,0.22972]\n",
            "Gradient Descent(49/49): objective=1653.24152, x=[0.22125,0.48793,0.22970]\n"
          ]
        }
      ]
    },
    {
      "cell_type": "markdown",
      "source": [
        "# Smoothness gradient descent with L parameter\n",
        "To be able to use smothness for this algorithm we have first of all calcolate the L parameter for witch the function results smooth (calcolate_L function) \\\n",
        "After that we can easily change our generic gamma with the new gammasmooth that we just found; we can notice, looking at the results we get that, our algorithm has a different result but stabilize itself more or less at the 10th iteration."
      ],
      "metadata": {
        "id": "RkAJf0cZ9cL2"
      }
    },
    {
      "cell_type": "code",
      "source": [
        "def calculate_L(A, b):\n",
        "    \"\"\"Calculate the smoothness constant for f\"\"\"\n",
        "    L = 2 * np.linalg.norm(A.T.dot(A), ord=2)\n",
        "    return L"
      ],
      "metadata": {
        "id": "LNuePXeZ9i4V"
      },
      "execution_count": 53,
      "outputs": []
    },
    {
      "cell_type": "code",
      "source": [
        "max_iters = 50\n",
        "gamma_smooth = (1/calculate_L(A,b))\n",
        "print(gamma_smooth)\n",
        "x_initial = np.zeros(A.shape[1])\n",
        "gradient_objectives_smooth, gradient_xs_smooth = gradient_descent(A, x_initial, b, max_iters, gamma_smooth)"
      ],
      "metadata": {
        "colab": {
          "base_uri": "https://localhost:8080/"
        },
        "id": "cZP1-gxH9oAQ",
        "outputId": "1dc7471f-87d1-41eb-f43c-0b4a0ded21e2"
      },
      "execution_count": 57,
      "outputs": [
        {
          "output_type": "stream",
          "name": "stdout",
          "text": [
            "8.360406327469688e-05\n",
            "Gradient Descent(0/49): objective=2784.00000, x=[-0.00000,0.28216,0.22371]\n",
            "Gradient Descent(1/49): objective=1790.45812, x=[0.03487,0.35401,0.29609]\n",
            "Gradient Descent(2/49): objective=1697.05318, x=[0.05820,0.38350,0.31084]\n",
            "Gradient Descent(3/49): objective=1682.11892, x=[0.07666,0.39928,0.30882]\n",
            "Gradient Descent(4/49): objective=1675.72333, x=[0.09243,0.41015,0.30239]\n",
            "Gradient Descent(5/49): objective=1671.13098, x=[0.10629,0.41889,0.29524]\n",
            "Gradient Descent(6/49): objective=1667.51345, x=[0.11861,0.42640,0.28842]\n",
            "Gradient Descent(7/49): objective=1664.63085, x=[0.12959,0.43302,0.28220]\n",
            "Gradient Descent(8/49): objective=1662.33078, x=[0.13940,0.43891,0.27660]\n",
            "Gradient Descent(9/49): objective=1660.49523, x=[0.14816,0.44415,0.27159]\n",
            "Gradient Descent(10/49): objective=1659.03037, x=[0.15598,0.44884,0.26711]\n",
            "Gradient Descent(11/49): objective=1657.86132, x=[0.16297,0.45303,0.26311]\n",
            "Gradient Descent(12/49): objective=1656.92836, x=[0.16921,0.45676,0.25953]\n",
            "Gradient Descent(13/49): objective=1656.18381, x=[0.17479,0.46010,0.25633]\n",
            "Gradient Descent(14/49): objective=1655.58961, x=[0.17977,0.46309,0.25348]\n",
            "Gradient Descent(15/49): objective=1655.11541, x=[0.18422,0.46575,0.25093]\n",
            "Gradient Descent(16/49): objective=1654.73697, x=[0.18820,0.46813,0.24865]\n",
            "Gradient Descent(17/49): objective=1654.43496, x=[0.19175,0.47026,0.24661]\n",
            "Gradient Descent(18/49): objective=1654.19393, x=[0.19492,0.47216,0.24479]\n",
            "Gradient Descent(19/49): objective=1654.00158, x=[0.19776,0.47386,0.24317]\n",
            "Gradient Descent(20/49): objective=1653.84807, x=[0.20029,0.47538,0.24172]\n",
            "Gradient Descent(21/49): objective=1653.72556, x=[0.20255,0.47673,0.24042]\n",
            "Gradient Descent(22/49): objective=1653.62780, x=[0.20457,0.47794,0.23926]\n",
            "Gradient Descent(23/49): objective=1653.54977, x=[0.20638,0.47902,0.23823]\n",
            "Gradient Descent(24/49): objective=1653.48750, x=[0.20799,0.47999,0.23730]\n",
            "Gradient Descent(25/49): objective=1653.43781, x=[0.20943,0.48085,0.23648]\n",
            "Gradient Descent(26/49): objective=1653.39815, x=[0.21072,0.48162,0.23574]\n",
            "Gradient Descent(27/49): objective=1653.36650, x=[0.21187,0.48231,0.23508]\n",
            "Gradient Descent(28/49): objective=1653.34125, x=[0.21290,0.48293,0.23449]\n",
            "Gradient Descent(29/49): objective=1653.32109, x=[0.21382,0.48348,0.23397]\n",
            "Gradient Descent(30/49): objective=1653.30500, x=[0.21463,0.48397,0.23350]\n",
            "Gradient Descent(31/49): objective=1653.29217, x=[0.21537,0.48440,0.23308]\n",
            "Gradient Descent(32/49): objective=1653.28192, x=[0.21602,0.48480,0.23270]\n",
            "Gradient Descent(33/49): objective=1653.27374, x=[0.21661,0.48515,0.23237]\n",
            "Gradient Descent(34/49): objective=1653.26722, x=[0.21713,0.48546,0.23207]\n",
            "Gradient Descent(35/49): objective=1653.26201, x=[0.21759,0.48574,0.23180]\n",
            "Gradient Descent(36/49): objective=1653.25786, x=[0.21801,0.48599,0.23156]\n",
            "Gradient Descent(37/49): objective=1653.25454, x=[0.21838,0.48621,0.23135]\n",
            "Gradient Descent(38/49): objective=1653.25189, x=[0.21872,0.48641,0.23116]\n",
            "Gradient Descent(39/49): objective=1653.24978, x=[0.21901,0.48659,0.23099]\n",
            "Gradient Descent(40/49): objective=1653.24809, x=[0.21928,0.48675,0.23084]\n",
            "Gradient Descent(41/49): objective=1653.24675, x=[0.21952,0.48689,0.23070]\n",
            "Gradient Descent(42/49): objective=1653.24567, x=[0.21973,0.48702,0.23058]\n",
            "Gradient Descent(43/49): objective=1653.24482, x=[0.21992,0.48713,0.23047]\n",
            "Gradient Descent(44/49): objective=1653.24413, x=[0.22009,0.48723,0.23037]\n",
            "Gradient Descent(45/49): objective=1653.24359, x=[0.22024,0.48732,0.23029]\n",
            "Gradient Descent(46/49): objective=1653.24315, x=[0.22037,0.48740,0.23021]\n",
            "Gradient Descent(47/49): objective=1653.24281, x=[0.22049,0.48747,0.23014]\n",
            "Gradient Descent(48/49): objective=1653.24253, x=[0.22060,0.48754,0.23008]\n",
            "Gradient Descent(49/49): objective=1653.24231, x=[0.22070,0.48760,0.23002]\n"
          ]
        }
      ]
    },
    {
      "cell_type": "markdown",
      "source": [
        "# Lipshits bounded Gradient descent\n",
        "Last but not least principal method was to try Lipshits bounded Gradient descent so, after calculate the bound and is own gamma i verify in how long the gradient will find an optimal value \\\n",
        "The result was a little worst than before but we can see it of the following graph."
      ],
      "metadata": {
        "id": "4YFcNVXf9zWA"
      }
    },
    {
      "cell_type": "code",
      "source": [
        "max_iters = 50\n",
        "R = 25\n",
        "B = 2 * (R*np.linalg.norm(np.dot(A.T,A)) + np.linalg.norm(np.dot(A.T,b)))\n",
        "gamma_bounded = R/(B*np.sqrt(max_iters))\n",
        "gradient_objectives_bounded, gradient_xs_bounded = gradient_descent(A, x_initial, b, max_iters, gamma_bounded)"
      ],
      "metadata": {
        "colab": {
          "base_uri": "https://localhost:8080/"
        },
        "id": "fxW-YXV494mo",
        "outputId": "330c35df-e6ff-4835-da02-5a479b93867b"
      },
      "execution_count": 58,
      "outputs": [
        {
          "output_type": "stream",
          "name": "stdout",
          "text": [
            "Gradient Descent(0/49): objective=2784.00000, x=[-0.00000,0.03225,0.02557]\n",
            "Gradient Descent(1/49): objective=2614.00461, x=[0.00046,0.06176,0.04917]\n",
            "Gradient Descent(2/49): objective=2470.74909, x=[0.00130,0.08877,0.07092]\n",
            "Gradient Descent(3/49): objective=2349.94895, x=[0.00247,0.11350,0.09097]\n",
            "Gradient Descent(4/49): objective=2248.01809, x=[0.00391,0.13618,0.10944]\n",
            "Gradient Descent(5/49): objective=2161.95268, x=[0.00558,0.15697,0.12644]\n",
            "Gradient Descent(6/49): objective=2089.23473, x=[0.00744,0.17606,0.14207]\n",
            "Gradient Descent(7/49): objective=2027.75203, x=[0.00945,0.19359,0.15644]\n",
            "Gradient Descent(8/49): objective=1975.73158, x=[0.01159,0.20970,0.16964]\n",
            "Gradient Descent(9/49): objective=1931.68419, x=[0.01383,0.22452,0.18176]\n",
            "Gradient Descent(10/49): objective=1894.35832, x=[0.01615,0.23816,0.19287]\n",
            "Gradient Descent(11/49): objective=1862.70153, x=[0.01853,0.25073,0.20305]\n",
            "Gradient Descent(12/49): objective=1835.82837, x=[0.02096,0.26232,0.21237]\n",
            "Gradient Descent(13/49): objective=1812.99350, x=[0.02341,0.27302,0.22089]\n",
            "Gradient Descent(14/49): objective=1793.56921, x=[0.02588,0.28289,0.22869]\n",
            "Gradient Descent(15/49): objective=1777.02666, x=[0.02837,0.29203,0.23580]\n",
            "Gradient Descent(16/49): objective=1762.92007, x=[0.03085,0.30048,0.24228]\n",
            "Gradient Descent(17/49): objective=1750.87355, x=[0.03333,0.30831,0.24818]\n",
            "Gradient Descent(18/49): objective=1740.57002, x=[0.03579,0.31557,0.25355]\n",
            "Gradient Descent(19/49): objective=1731.74192, x=[0.03824,0.32231,0.25843]\n",
            "Gradient Descent(20/49): objective=1724.16336, x=[0.04067,0.32857,0.26285]\n",
            "Gradient Descent(21/49): objective=1717.64363, x=[0.04308,0.33439,0.26684]\n",
            "Gradient Descent(22/49): objective=1712.02161, x=[0.04546,0.33982,0.27045]\n",
            "Gradient Descent(23/49): objective=1707.16118, x=[0.04781,0.34488,0.27371]\n",
            "Gradient Descent(24/49): objective=1702.94726, x=[0.05013,0.34960,0.27663]\n",
            "Gradient Descent(25/49): objective=1699.28258, x=[0.05241,0.35401,0.27925]\n",
            "Gradient Descent(26/49): objective=1696.08487, x=[0.05467,0.35814,0.28160]\n",
            "Gradient Descent(27/49): objective=1693.28452, x=[0.05689,0.36201,0.28368]\n",
            "Gradient Descent(28/49): objective=1690.82264, x=[0.05909,0.36564,0.28553]\n",
            "Gradient Descent(29/49): objective=1688.64938, x=[0.06124,0.36905,0.28716]\n",
            "Gradient Descent(30/49): objective=1686.72252, x=[0.06337,0.37226,0.28860]\n",
            "Gradient Descent(31/49): objective=1685.00629, x=[0.06546,0.37529,0.28984]\n",
            "Gradient Descent(32/49): objective=1683.47041, x=[0.06752,0.37814,0.29092]\n",
            "Gradient Descent(33/49): objective=1682.08918, x=[0.06954,0.38084,0.29185]\n",
            "Gradient Descent(34/49): objective=1680.84084, x=[0.07154,0.38339,0.29264]\n",
            "Gradient Descent(35/49): objective=1679.70689, x=[0.07350,0.38580,0.29329]\n",
            "Gradient Descent(36/49): objective=1678.67166, x=[0.07543,0.38809,0.29383]\n",
            "Gradient Descent(37/49): objective=1677.72184, x=[0.07733,0.39027,0.29425]\n",
            "Gradient Descent(38/49): objective=1676.84610, x=[0.07920,0.39234,0.29458]\n",
            "Gradient Descent(39/49): objective=1676.03482, x=[0.08104,0.39432,0.29481]\n",
            "Gradient Descent(40/49): objective=1675.27981, x=[0.08285,0.39620,0.29497]\n",
            "Gradient Descent(41/49): objective=1674.57410, x=[0.08464,0.39800,0.29504]\n",
            "Gradient Descent(42/49): objective=1673.91176, x=[0.08639,0.39972,0.29505]\n",
            "Gradient Descent(43/49): objective=1673.28769, x=[0.08812,0.40137,0.29499]\n",
            "Gradient Descent(44/49): objective=1672.69759, x=[0.08983,0.40295,0.29488]\n",
            "Gradient Descent(45/49): objective=1672.13773, x=[0.09150,0.40447,0.29471]\n",
            "Gradient Descent(46/49): objective=1671.60495, x=[0.09316,0.40593,0.29450]\n",
            "Gradient Descent(47/49): objective=1671.09652, x=[0.09478,0.40734,0.29424]\n",
            "Gradient Descent(48/49): objective=1670.61011, x=[0.09639,0.40870,0.29394]\n",
            "Gradient Descent(49/49): objective=1670.14369, x=[0.09797,0.41001,0.29361]\n"
          ]
        }
      ]
    },
    {
      "cell_type": "code",
      "source": [
        "plt.figure(figsize=(8, 8))\n",
        "plt.xlabel('Number of steps')\n",
        "plt.ylabel('Objective Function')\n",
        "plt.plot(range(len(gradient_objectives_smooth)), gradient_objectives_smooth,'pink', label='gradient descent assuming smoothness')\n",
        "plt.plot(range(len(gradient_objectives_naive)), gradient_objectives_naive,'green', label='naive gradient descent')\n",
        "plt.plot(range(len(gradient_objectives_bounded)), gradient_objectives_bounded,'orange', label='gradient_objectives_bounded')"
      ],
      "metadata": {
        "colab": {
          "base_uri": "https://localhost:8080/",
          "height": 713
        },
        "id": "OdwVhQhQ-K-I",
        "outputId": "275eaa36-ad57-49dc-9845-ecb6c1c6d236"
      },
      "execution_count": 62,
      "outputs": [
        {
          "output_type": "execute_result",
          "data": {
            "text/plain": [
              "[<matplotlib.lines.Line2D at 0x795e81161db0>]"
            ]
          },
          "metadata": {},
          "execution_count": 62
        },
        {
          "output_type": "display_data",
          "data": {
            "text/plain": [
              "<Figure size 800x800 with 1 Axes>"
            ],
            "image/png": "[encoded data removed]"
          },
          "metadata": {}
        }
      ]
    }
  ]
}